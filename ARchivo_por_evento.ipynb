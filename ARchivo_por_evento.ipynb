{
  "nbformat": 4,
  "nbformat_minor": 0,
  "metadata": {
    "colab": {
      "name": "Untitled0.ipynb",
      "provenance": [],
      "collapsed_sections": [],
      "authorship_tag": "ABX9TyMtOVBj6OrKLZEBDlfg1v0b",
      "include_colab_link": true
    },
    "kernelspec": {
      "name": "python3",
      "display_name": "Python 3"
    },
    "language_info": {
      "name": "python"
    }
  },
  "cells": [
    {
      "cell_type": "markdown",
      "metadata": {
        "id": "view-in-github",
        "colab_type": "text"
      },
      "source": [
        "<a href=\"https://colab.research.google.com/github/AlejRamos/FisicaPArticulas/blob/main/ARchivo_por_evento.ipynb\" target=\"_parent\"><img src=\"https://colab.research.google.com/assets/colab-badge.svg\" alt=\"Open In Colab\"/></a>"
      ]
    },
    {
      "cell_type": "code",
      "metadata": {
        "colab": {
          "base_uri": "https://localhost:8080/",
          "height": 282
        },
        "id": "KvtMW0zSJArB",
        "outputId": "94547fb1-6b2f-458b-f0f0-47a88cbb798f"
      },
      "source": [
        "import pandas as pd\n",
        "import numpy as np\n",
        "import matplotlib.pyplot as plt\n",
        "\n",
        "#events = pd.read_csv(\"https://cernbox.cern.ch/index.php/s/5n2wG7OD7a0wYXX/download\")\n",
        "#events.head()\n",
        "\n",
        "datos = np.genfromtxt(\"https://cernbox.cern.ch/index.php/s/5n2wG7OD7a0wYXX/download\", delimiter=\",\",\n",
        "                      names=[\"px\",\"py\",\"pz\",\"E\"])\n",
        "p_t = np.sqrt((datos[\"px\"]**2)+(datos[\"py\"]**2))\n",
        "\n",
        "plt.hist(p_t)\n",
        "\n",
        "a = len(datos)\n",
        "b=int((a+1)/2)\n",
        "#print(len(datos))\n",
        "\n",
        "\"\"\"\n",
        "En las siguientes lineas esta el codigo donde se crea una matriz\n",
        "con los datos por evento de los momentos y la energia\n",
        "su estrucutra es:\n",
        "evento px_1 py_1 pz_1 E_1 px_2 py_2 pz_2 E_2\n",
        "Con 1 correspondiente al muon negativo y 2 el positivo\n",
        "\"\"\"\n",
        "H=[]\n",
        "j=[]\n",
        "for i in range(b):\n",
        "    j=(i,datos[i*2][0],datos[i*2][1],datos[i*2][2],datos[i*2][3],\n",
        "        datos[i*2+1][0],datos[i*2+1][1],datos[i*2+1][2],datos[i*2+1][3])\n",
        "    H.append(j)\n",
        "\n",
        "#print(len(H))\n",
        "print(H[500][2])\n",
        "\n",
        "#np.savetxt(\"Hcito.txt\", H, \n",
        "#            fmt=[\"%.0f\",\"%.5f\",\"%.5f\",\"%.5f\",\"%.5f\",\"%.5f\",\"%.5f\",\"%.5f\",\"%.5f\"],\n",
        "#            header=\"event  px1  py1  pz1  E1  px2 py2  pz2  E2\")\n",
        "\n",
        "\n",
        "#plt.plot(datos[\"px\"])"
      ],
      "execution_count": 2,
      "outputs": [
        {
          "output_type": "stream",
          "name": "stdout",
          "text": [
            "37.991408624\n"
          ]
        },
        {
          "output_type": "display_data",
          "data": {
            "image/png": "[encoded data removed]",
            "text/plain": [
              "<Figure size 432x288 with 1 Axes>"
            ]
          },
          "metadata": {
            "needs_background": "light"
          }
        }
      ]
    },
    {
      "cell_type": "code",
      "metadata": {
        "id": "Ft0IKlcRkaWS"
      },
      "source": [
        ""
      ],
      "execution_count": null,
      "outputs": []
    },
    {
      "cell_type": "code",
      "metadata": {
        "id": "QPGAjwwDiXUC"
      },
      "source": [
        ""
      ],
      "execution_count": null,
      "outputs": []
    }
  ]
}